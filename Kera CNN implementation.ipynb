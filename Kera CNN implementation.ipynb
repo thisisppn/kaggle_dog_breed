{
 "cells": [
  {
   "cell_type": "code",
   "execution_count": 35,
   "metadata": {},
   "outputs": [],
   "source": [
    "import pandas as pd\n",
    "from keras.preprocessing.image import load_img, img_to_array\n",
    "from keras.utils.np_utils import to_categorical\n",
    "from sklearn.preprocessing import LabelEncoder\n",
    "from sklearn.model_selection import train_test_split\n",
    "from keras.models import Sequential\n",
    "from keras.layers import Dense , Dropout , Lambda, Flatten, Conv2D, MaxPooling2D\n",
    "from keras.optimizers import Adam ,RMSprop\n",
    "from keras import backend as K\n",
    "from keras.callbacks import ModelCheckpoint\n",
    "K.set_image_data_format('channels_last')\n",
    "import numpy as np"
   ]
  },
  {
   "cell_type": "code",
   "execution_count": 36,
   "metadata": {},
   "outputs": [
    {
     "name": "stdout",
     "output_type": "stream",
     "text": [
      "Loading training images ...\n",
      "Loading training images ... COMPLETE!\n"
     ]
    }
   ],
   "source": [
    "labels = pd.read_csv('input/labels.csv')\n",
    "imgs = []\n",
    "Y = labels['breed']\n",
    "encoder = LabelEncoder()\n",
    "Y_encoded = encoder.fit_transform(Y)\n",
    "Y_categorical = to_categorical(Y_encoded)\n",
    "\n",
    "NUM_CLASSES = 120\n",
    "IMAGE_SIZE = 128\n",
    "\n",
    "print(\"Loading training images ...\")\n",
    "for key, value in labels.iterrows():\n",
    "    image = load_img('input/train/{0}.jpg'.format(value['id']), target_size=(IMAGE_SIZE, IMAGE_SIZE))\n",
    "    image = img_to_array(image)\n",
    "    imgs.append(image/255.0)\n",
    "print(\"Loading training images ... COMPLETE!\")\n",
    "\n",
    "X = np.array(imgs, dtype='float32')"
   ]
  },
  {
   "cell_type": "code",
   "execution_count": 37,
   "metadata": {},
   "outputs": [],
   "source": [
    "def larger_model():\n",
    "    # create model\n",
    "    model = Sequential()\n",
    "    model.add(Conv2D(30, (5, 5), input_shape=(IMAGE_SIZE, IMAGE_SIZE, 3), activation='relu'))\n",
    "    model.add(MaxPooling2D(pool_size=(2, 2)))\n",
    "    \n",
    "    model.add(Conv2D(15, (3, 3), activation='relu'))\n",
    "    model.add(MaxPooling2D(pool_size=(2, 2)))\n",
    "    model.add(Dropout(0.5))\n",
    "    \n",
    "    model.add(Flatten())\n",
    "    model.add(Dense(128, activation='relu'))\n",
    "    model.add(Dense(50, activation='relu'))\n",
    "    model.add(Dense(120, activation='softmax'))\n",
    "    # Compile model\n",
    "    model.compile(loss='categorical_crossentropy', optimizer='adam', metrics=['accuracy'])\n",
    "    return model\n",
    "\n",
    "\n",
    "def mini_alex_net():\n",
    "    model = Sequential()\n",
    "    mode.add()\n"
   ]
  },
  {
   "cell_type": "code",
   "execution_count": 4,
   "metadata": {},
   "outputs": [
    {
     "name": "stdout",
     "output_type": "stream",
     "text": [
      "Train on 8177 samples, validate on 2045 samples\n",
      "Epoch 1/100\n",
      "8177/8177 [==============================] - 10s 1ms/step - loss: 4.7885 - acc: 0.0100 - val_loss: 4.7852 - val_acc: 0.0108\n",
      "Epoch 2/100\n",
      "8177/8177 [==============================] - 5s 650us/step - loss: 4.7709 - acc: 0.0147 - val_loss: 4.7660 - val_acc: 0.0142\n",
      "Epoch 3/100\n",
      "8177/8177 [==============================] - 5s 653us/step - loss: 4.6901 - acc: 0.0241 - val_loss: 4.6890 - val_acc: 0.0220\n",
      "Epoch 4/100\n",
      "8177/8177 [==============================] - 5s 652us/step - loss: 4.4464 - acc: 0.0473 - val_loss: 4.6294 - val_acc: 0.0274\n",
      "Epoch 5/100\n",
      "8177/8177 [==============================] - 6s 677us/step - loss: 4.1064 - acc: 0.0933 - val_loss: 4.6035 - val_acc: 0.0323\n",
      "Epoch 6/100\n",
      "8177/8177 [==============================] - 5s 646us/step - loss: 3.7170 - acc: 0.1476 - val_loss: 4.7157 - val_acc: 0.0372\n",
      "Epoch 7/100\n",
      "8177/8177 [==============================] - 5s 647us/step - loss: 3.2254 - acc: 0.2381 - val_loss: 5.0592 - val_acc: 0.0406\n",
      "Epoch 8/100\n",
      "8177/8177 [==============================] - 5s 645us/step - loss: 2.6332 - acc: 0.3646 - val_loss: 5.5330 - val_acc: 0.0396\n",
      "Epoch 9/100\n",
      "8177/8177 [==============================] - 5s 647us/step - loss: 2.0490 - acc: 0.4858 - val_loss: 6.0520 - val_acc: 0.0440\n",
      "Epoch 10/100\n",
      "8177/8177 [==============================] - 5s 659us/step - loss: 1.4913 - acc: 0.6204 - val_loss: 6.9783 - val_acc: 0.0337\n",
      "Epoch 11/100\n",
      "8177/8177 [==============================] - 5s 650us/step - loss: 1.0625 - acc: 0.7281 - val_loss: 7.6631 - val_acc: 0.0372\n",
      "Epoch 12/100\n",
      "8177/8177 [==============================] - 5s 667us/step - loss: 0.7198 - acc: 0.8150 - val_loss: 8.3662 - val_acc: 0.0406\n",
      "Epoch 13/100\n",
      "8177/8177 [==============================] - 5s 652us/step - loss: 0.5147 - acc: 0.8682 - val_loss: 8.9537 - val_acc: 0.0391\n",
      "Epoch 14/100\n",
      "8177/8177 [==============================] - 5s 660us/step - loss: 0.3859 - acc: 0.9060 - val_loss: 9.4533 - val_acc: 0.0445\n",
      "Epoch 15/100\n",
      "8177/8177 [==============================] - 5s 655us/step - loss: 0.2896 - acc: 0.9305 - val_loss: 9.7204 - val_acc: 0.0406\n",
      "Epoch 16/100\n",
      "8177/8177 [==============================] - 5s 653us/step - loss: 0.2474 - acc: 0.9397 - val_loss: 10.2064 - val_acc: 0.0391\n",
      "Epoch 17/100\n",
      "8177/8177 [==============================] - 5s 656us/step - loss: 0.2013 - acc: 0.9525 - val_loss: 10.3984 - val_acc: 0.0425\n",
      "Epoch 18/100\n",
      "8177/8177 [==============================] - 5s 656us/step - loss: 0.1783 - acc: 0.9567 - val_loss: 10.9260 - val_acc: 0.0435\n",
      "Epoch 19/100\n",
      "8177/8177 [==============================] - 5s 652us/step - loss: 0.1631 - acc: 0.9576 - val_loss: 10.6128 - val_acc: 0.0362\n",
      "Epoch 20/100\n",
      "8177/8177 [==============================] - 5s 655us/step - loss: 0.1380 - acc: 0.9649 - val_loss: 11.0976 - val_acc: 0.0396\n",
      "Epoch 21/100\n",
      "8177/8177 [==============================] - 5s 650us/step - loss: 0.1207 - acc: 0.9694 - val_loss: 11.0403 - val_acc: 0.0391\n",
      "Epoch 22/100\n",
      "8177/8177 [==============================] - 5s 648us/step - loss: 0.1092 - acc: 0.9710 - val_loss: 11.2550 - val_acc: 0.0416\n",
      "Epoch 23/100\n",
      "8177/8177 [==============================] - 5s 649us/step - loss: 0.1004 - acc: 0.9777 - val_loss: 11.4110 - val_acc: 0.0386\n",
      "Epoch 24/100\n",
      "8177/8177 [==============================] - 5s 652us/step - loss: 0.0828 - acc: 0.9812 - val_loss: 11.5808 - val_acc: 0.0357\n",
      "Epoch 25/100\n",
      "8177/8177 [==============================] - 5s 652us/step - loss: 0.0813 - acc: 0.9815 - val_loss: 11.5523 - val_acc: 0.0435\n",
      "Epoch 26/100\n",
      "8177/8177 [==============================] - 5s 653us/step - loss: 0.0688 - acc: 0.9836 - val_loss: 11.5117 - val_acc: 0.0391\n",
      "Epoch 27/100\n",
      "8177/8177 [==============================] - 5s 647us/step - loss: 0.0691 - acc: 0.9831 - val_loss: 11.6991 - val_acc: 0.0386\n",
      "Epoch 28/100\n",
      "8177/8177 [==============================] - 5s 653us/step - loss: 0.0811 - acc: 0.9792 - val_loss: 11.6732 - val_acc: 0.0411\n",
      "Epoch 29/100\n",
      "8177/8177 [==============================] - 6s 674us/step - loss: 0.0651 - acc: 0.9837 - val_loss: 11.8606 - val_acc: 0.0435\n",
      "Epoch 30/100\n",
      "8177/8177 [==============================] - 6s 681us/step - loss: 0.0676 - acc: 0.9819 - val_loss: 11.8963 - val_acc: 0.0440\n",
      "Epoch 31/100\n",
      "8177/8177 [==============================] - 5s 652us/step - loss: 0.0652 - acc: 0.9841 - val_loss: 11.8990 - val_acc: 0.0430\n",
      "Epoch 32/100\n",
      "8177/8177 [==============================] - 5s 654us/step - loss: 0.0794 - acc: 0.9802 - val_loss: 11.8768 - val_acc: 0.0377\n",
      "Epoch 33/100\n",
      "8177/8177 [==============================] - 5s 647us/step - loss: 0.0675 - acc: 0.9825 - val_loss: 12.0022 - val_acc: 0.0391\n",
      "Epoch 34/100\n",
      "8177/8177 [==============================] - 5s 651us/step - loss: 0.0695 - acc: 0.9823 - val_loss: 11.9299 - val_acc: 0.0406\n",
      "Epoch 35/100\n",
      "8177/8177 [==============================] - 5s 650us/step - loss: 0.0708 - acc: 0.9807 - val_loss: 11.9101 - val_acc: 0.0391\n",
      "Epoch 36/100\n",
      "8177/8177 [==============================] - 5s 650us/step - loss: 0.0646 - acc: 0.9821 - val_loss: 12.0561 - val_acc: 0.0347\n",
      "Epoch 37/100\n",
      "8177/8177 [==============================] - 5s 645us/step - loss: 0.0588 - acc: 0.9847 - val_loss: 12.1300 - val_acc: 0.0362\n",
      "Epoch 38/100\n",
      "8177/8177 [==============================] - 5s 649us/step - loss: 0.0565 - acc: 0.9847 - val_loss: 12.0754 - val_acc: 0.0416\n",
      "Epoch 39/100\n",
      "8177/8177 [==============================] - 5s 645us/step - loss: 0.0602 - acc: 0.9836 - val_loss: 12.0653 - val_acc: 0.0367\n",
      "Epoch 40/100\n",
      "8177/8177 [==============================] - 5s 648us/step - loss: 0.0530 - acc: 0.9840 - val_loss: 12.1111 - val_acc: 0.0386\n",
      "Epoch 41/100\n",
      "8177/8177 [==============================] - 5s 650us/step - loss: 0.0769 - acc: 0.9788 - val_loss: 11.7909 - val_acc: 0.0401\n",
      "Epoch 42/100\n",
      "8177/8177 [==============================] - 5s 645us/step - loss: 0.0829 - acc: 0.9790 - val_loss: 11.7800 - val_acc: 0.0372\n",
      "Epoch 43/100\n",
      "8177/8177 [==============================] - 5s 648us/step - loss: 0.0663 - acc: 0.9812 - val_loss: 12.1857 - val_acc: 0.0362\n",
      "Epoch 44/100\n",
      "8177/8177 [==============================] - 5s 649us/step - loss: 0.0636 - acc: 0.9837 - val_loss: 12.1147 - val_acc: 0.0372\n",
      "Epoch 45/100\n",
      "8177/8177 [==============================] - 5s 645us/step - loss: 0.0556 - acc: 0.9848 - val_loss: 12.1922 - val_acc: 0.0328\n",
      "Epoch 46/100\n",
      "8177/8177 [==============================] - 5s 649us/step - loss: 0.0569 - acc: 0.9837 - val_loss: 12.4311 - val_acc: 0.0381\n",
      "Epoch 47/100\n",
      "8177/8177 [==============================] - 5s 642us/step - loss: 0.0624 - acc: 0.9835 - val_loss: 12.1931 - val_acc: 0.0377\n",
      "Epoch 48/100\n",
      "8177/8177 [==============================] - 5s 653us/step - loss: 0.0517 - acc: 0.9857 - val_loss: 12.3648 - val_acc: 0.0352\n",
      "Epoch 49/100\n",
      "8177/8177 [==============================] - 6s 678us/step - loss: 0.0516 - acc: 0.9872 - val_loss: 12.3461 - val_acc: 0.0381\n",
      "Epoch 50/100\n",
      "8177/8177 [==============================] - 6s 693us/step - loss: 0.0562 - acc: 0.9851 - val_loss: 12.5079 - val_acc: 0.0372\n",
      "Epoch 51/100\n",
      "8177/8177 [==============================] - 5s 670us/step - loss: 0.0522 - acc: 0.9859 - val_loss: 12.3356 - val_acc: 0.0396\n",
      "Epoch 52/100\n",
      "8177/8177 [==============================] - 5s 649us/step - loss: 0.0369 - acc: 0.9902 - val_loss: 12.4760 - val_acc: 0.0396\n",
      "Epoch 53/100\n",
      "8177/8177 [==============================] - 5s 651us/step - loss: 0.0524 - acc: 0.9862 - val_loss: 12.2751 - val_acc: 0.0435\n",
      "Epoch 54/100\n",
      "8177/8177 [==============================] - 5s 656us/step - loss: 0.0476 - acc: 0.9873 - val_loss: 12.4011 - val_acc: 0.0421\n",
      "Epoch 55/100\n",
      "8177/8177 [==============================] - 6s 673us/step - loss: 0.0448 - acc: 0.9872 - val_loss: 12.3389 - val_acc: 0.0455\n",
      "Epoch 56/100\n",
      "8177/8177 [==============================] - 5s 671us/step - loss: 0.0444 - acc: 0.9890 - val_loss: 12.3394 - val_acc: 0.0430\n",
      "Epoch 57/100\n",
      "8177/8177 [==============================] - 5s 660us/step - loss: 0.0384 - acc: 0.9884 - val_loss: 12.3796 - val_acc: 0.0406\n",
      "Epoch 58/100\n",
      "8177/8177 [==============================] - 5s 662us/step - loss: 0.0369 - acc: 0.9897 - val_loss: 12.3068 - val_acc: 0.0372\n",
      "Epoch 59/100\n",
      "8177/8177 [==============================] - 5s 661us/step - loss: 0.0396 - acc: 0.9876 - val_loss: 12.5561 - val_acc: 0.0377\n"
     ]
    },
    {
     "name": "stdout",
     "output_type": "stream",
     "text": [
      "Epoch 60/100\n",
      "8177/8177 [==============================] - 5s 652us/step - loss: 0.0400 - acc: 0.9887 - val_loss: 12.5844 - val_acc: 0.0406\n",
      "Epoch 61/100\n",
      "8177/8177 [==============================] - 5s 641us/step - loss: 0.0332 - acc: 0.9900 - val_loss: 12.5338 - val_acc: 0.0406\n",
      "Epoch 62/100\n",
      "8177/8177 [==============================] - 5s 645us/step - loss: 0.0356 - acc: 0.9900 - val_loss: 12.4933 - val_acc: 0.0391\n",
      "Epoch 63/100\n",
      "8177/8177 [==============================] - 5s 645us/step - loss: 0.0299 - acc: 0.9928 - val_loss: 12.8640 - val_acc: 0.0411\n",
      "Epoch 64/100\n",
      "8177/8177 [==============================] - 5s 646us/step - loss: 0.0317 - acc: 0.9918 - val_loss: 12.6302 - val_acc: 0.0421\n",
      "Epoch 65/100\n",
      "8177/8177 [==============================] - 5s 649us/step - loss: 0.0311 - acc: 0.9906 - val_loss: 12.7065 - val_acc: 0.0406\n",
      "Epoch 66/100\n",
      "8177/8177 [==============================] - 5s 650us/step - loss: 0.0401 - acc: 0.9881 - val_loss: 12.5833 - val_acc: 0.0406\n",
      "Epoch 67/100\n",
      "8177/8177 [==============================] - 5s 649us/step - loss: 0.0440 - acc: 0.9875 - val_loss: 12.6130 - val_acc: 0.0406\n",
      "Epoch 68/100\n",
      "8177/8177 [==============================] - 6s 689us/step - loss: 0.0469 - acc: 0.9868 - val_loss: 12.5870 - val_acc: 0.0406\n",
      "Epoch 69/100\n",
      "8177/8177 [==============================] - 5s 658us/step - loss: 0.0393 - acc: 0.9892 - val_loss: 12.6837 - val_acc: 0.0372\n",
      "Epoch 70/100\n",
      "8177/8177 [==============================] - 5s 649us/step - loss: 0.0483 - acc: 0.9887 - val_loss: 12.4825 - val_acc: 0.0396\n",
      "Epoch 71/100\n",
      "8177/8177 [==============================] - 5s 648us/step - loss: 0.0462 - acc: 0.9863 - val_loss: 12.5086 - val_acc: 0.0406\n",
      "Epoch 72/100\n",
      "8177/8177 [==============================] - 5s 641us/step - loss: 0.0407 - acc: 0.9874 - val_loss: 12.6012 - val_acc: 0.0430\n",
      "Epoch 73/100\n",
      "8177/8177 [==============================] - 5s 653us/step - loss: 0.0296 - acc: 0.9921 - val_loss: 12.6591 - val_acc: 0.0391\n",
      "Epoch 74/100\n",
      "8177/8177 [==============================] - 5s 647us/step - loss: 0.0335 - acc: 0.9892 - val_loss: 12.7462 - val_acc: 0.0411\n",
      "Epoch 75/100\n",
      "8177/8177 [==============================] - 5s 647us/step - loss: 0.0303 - acc: 0.9910 - val_loss: 12.7783 - val_acc: 0.0411\n",
      "Epoch 76/100\n",
      "8177/8177 [==============================] - 5s 647us/step - loss: 0.0424 - acc: 0.9876 - val_loss: 12.8372 - val_acc: 0.0455\n",
      "Epoch 77/100\n",
      "8177/8177 [==============================] - 5s 645us/step - loss: 0.0447 - acc: 0.9880 - val_loss: 12.7570 - val_acc: 0.0391\n",
      "Epoch 78/100\n",
      "8177/8177 [==============================] - 5s 642us/step - loss: 0.0298 - acc: 0.9914 - val_loss: 12.8298 - val_acc: 0.0352\n",
      "Epoch 79/100\n",
      "8177/8177 [==============================] - 5s 650us/step - loss: 0.0519 - acc: 0.9862 - val_loss: 12.9091 - val_acc: 0.0367\n",
      "Epoch 80/100\n",
      "8177/8177 [==============================] - 5s 646us/step - loss: 0.0560 - acc: 0.9857 - val_loss: 12.3028 - val_acc: 0.0362\n",
      "Epoch 81/100\n",
      "8177/8177 [==============================] - 5s 649us/step - loss: 0.0387 - acc: 0.9883 - val_loss: 12.7769 - val_acc: 0.0367\n",
      "Epoch 82/100\n",
      "8177/8177 [==============================] - 5s 652us/step - loss: 0.0354 - acc: 0.9906 - val_loss: 12.7828 - val_acc: 0.0347\n",
      "Epoch 83/100\n",
      "8177/8177 [==============================] - 5s 643us/step - loss: 0.0364 - acc: 0.9898 - val_loss: 12.8740 - val_acc: 0.0421\n",
      "Epoch 84/100\n",
      "8177/8177 [==============================] - 5s 655us/step - loss: 0.0329 - acc: 0.9912 - val_loss: 12.7577 - val_acc: 0.0386\n",
      "Epoch 85/100\n",
      "8177/8177 [==============================] - 5s 666us/step - loss: 0.0265 - acc: 0.9921 - val_loss: 12.9523 - val_acc: 0.0367\n",
      "Epoch 86/100\n",
      "8177/8177 [==============================] - 5s 659us/step - loss: 0.0270 - acc: 0.9935 - val_loss: 12.8381 - val_acc: 0.0367\n",
      "Epoch 87/100\n",
      "8177/8177 [==============================] - 5s 653us/step - loss: 0.0259 - acc: 0.9924 - val_loss: 13.1138 - val_acc: 0.0391\n",
      "Epoch 88/100\n",
      "8177/8177 [==============================] - 5s 642us/step - loss: 0.0309 - acc: 0.9902 - val_loss: 12.8192 - val_acc: 0.0381\n",
      "Epoch 89/100\n",
      "8177/8177 [==============================] - 5s 646us/step - loss: 0.0250 - acc: 0.9928 - val_loss: 12.8788 - val_acc: 0.0357\n",
      "Epoch 90/100\n",
      "8177/8177 [==============================] - 5s 650us/step - loss: 0.0428 - acc: 0.9894 - val_loss: 12.7895 - val_acc: 0.0386\n",
      "Epoch 91/100\n",
      "8177/8177 [==============================] - 5s 650us/step - loss: 0.0347 - acc: 0.9900 - val_loss: 12.8494 - val_acc: 0.0391\n",
      "Epoch 92/100\n",
      "8177/8177 [==============================] - 5s 659us/step - loss: 0.0343 - acc: 0.9889 - val_loss: 12.9874 - val_acc: 0.0367\n",
      "Epoch 93/100\n",
      "8177/8177 [==============================] - 5s 656us/step - loss: 0.0319 - acc: 0.9912 - val_loss: 13.0022 - val_acc: 0.0367\n",
      "Epoch 94/100\n",
      "8177/8177 [==============================] - 5s 650us/step - loss: 0.0303 - acc: 0.9903 - val_loss: 12.8430 - val_acc: 0.0401\n",
      "Epoch 95/100\n",
      "8177/8177 [==============================] - 5s 654us/step - loss: 0.0309 - acc: 0.9916 - val_loss: 12.8910 - val_acc: 0.0391\n",
      "Epoch 96/100\n",
      "8177/8177 [==============================] - 5s 652us/step - loss: 0.0368 - acc: 0.9892 - val_loss: 12.8972 - val_acc: 0.0430\n",
      "Epoch 97/100\n",
      "8177/8177 [==============================] - 5s 652us/step - loss: 0.0381 - acc: 0.9885 - val_loss: 12.9537 - val_acc: 0.0352\n",
      "Epoch 98/100\n",
      "8177/8177 [==============================] - 5s 652us/step - loss: 0.0312 - acc: 0.9910 - val_loss: 12.9547 - val_acc: 0.0396\n",
      "Epoch 99/100\n",
      "8177/8177 [==============================] - 5s 654us/step - loss: 0.0360 - acc: 0.9880 - val_loss: 12.9272 - val_acc: 0.0416\n",
      "Epoch 100/100\n",
      "8177/8177 [==============================] - 5s 652us/step - loss: 0.0323 - acc: 0.9898 - val_loss: 12.9040 - val_acc: 0.0381\n"
     ]
    },
    {
     "data": {
      "text/plain": [
       "<keras.callbacks.History at 0x7f48d15e3f60>"
      ]
     },
     "execution_count": 4,
     "metadata": {},
     "output_type": "execute_result"
    }
   ],
   "source": [
    "# build the model\n",
    "model = larger_model()\n",
    "# Fit the model\n",
    "model.fit(X, Y_categorical, epochs=100, batch_size=200, verbose=1, validation_split=0.2,callbacks=[ModelCheckpoint('model.h5', save_best_only=True)])"
   ]
  },
  {
   "cell_type": "code",
   "execution_count": 10,
   "metadata": {
    "collapsed": true
   },
   "outputs": [],
   "source": [
    "X_test_imgs = []\n",
    "X_test_ids = []\n",
    "import os\n",
    "for filename in os.listdir('input/test'):\n",
    "    image = load_img('input/test/{0}'.format(filename), target_size=(IMAGE_SIZE, IMAGE_SIZE))\n",
    "    image = img_to_array(image)\n",
    "    X_test_imgs.append(image/255.0)\n",
    "    X_test_ids.append(filename.split('.')[0])\n",
    "\n",
    "X_test = np.array(X_test_imgs, dtype='float32')"
   ]
  },
  {
   "cell_type": "code",
   "execution_count": 14,
   "metadata": {},
   "outputs": [],
   "source": [
    "pred = model.predict(X_test)"
   ]
  },
  {
   "cell_type": "code",
   "execution_count": 16,
   "metadata": {},
   "outputs": [
    {
     "data": {
      "text/plain": [
       "(120,)"
      ]
     },
     "execution_count": 16,
     "metadata": {},
     "output_type": "execute_result"
    }
   ],
   "source": [
    "pred[0].shape"
   ]
  },
  {
   "cell_type": "markdown",
   "metadata": {
    "collapsed": true
   },
   "source": [
    "### Try out Data Augmentation\n",
    "\n",
    "Since we have less amount of training data, we'll modify(rotate, bend, zoom etc.) the existing data to create more training data\n"
   ]
  },
  {
   "cell_type": "code",
   "execution_count": 38,
   "metadata": {},
   "outputs": [],
   "source": [
    "from keras.preprocessing.image import ImageDataGenerator\n",
    "from sklearn.model_selection import train_test_split\n",
    "\n",
    "X_train, X_val, Y_train, Y_val = train_test_split(X, Y_categorical,\n",
    "                                                  test_size=0.2, random_state=42)\n",
    "\n",
    "datagen = ImageDataGenerator(featurewise_center=False,\n",
    "                             featurewise_std_normalization=False,\n",
    "                             width_shift_range=0.1,\n",
    "                             height_shift_range=0.1,\n",
    "                             zoom_range=0.2,\n",
    "                             shear_range=0.1,\n",
    "                             rotation_range=10.)\n",
    "\n",
    "datagen.fit(X_train)"
   ]
  },
  {
   "cell_type": "code",
   "execution_count": 40,
   "metadata": {},
   "outputs": [
    {
     "name": "stdout",
     "output_type": "stream",
     "text": [
      "Epoch 1/30\n",
      "   4/8177 [..............................] - ETA: 27:11:08 - loss: 4.7858 - acc: 0.0137"
     ]
    },
    {
     "ename": "KeyboardInterrupt",
     "evalue": "",
     "output_type": "error",
     "traceback": [
      "\u001b[0;31m---------------------------------------------------------------------------\u001b[0m",
      "\u001b[0;31mKeyboardInterrupt\u001b[0m                         Traceback (most recent call last)",
      "\u001b[0;32m<ipython-input-40-641d9e9c3960>\u001b[0m in \u001b[0;36m<module>\u001b[0;34m()\u001b[0m\n\u001b[1;32m      4\u001b[0m                     \u001b[0mepochs\u001b[0m\u001b[0;34m=\u001b[0m\u001b[0mepochs\u001b[0m\u001b[0;34m,\u001b[0m\u001b[0;34m\u001b[0m\u001b[0m\n\u001b[1;32m      5\u001b[0m                     \u001b[0mvalidation_data\u001b[0m\u001b[0;34m=\u001b[0m\u001b[0;34m(\u001b[0m\u001b[0mX_val\u001b[0m\u001b[0;34m,\u001b[0m \u001b[0mY_val\u001b[0m\u001b[0;34m)\u001b[0m\u001b[0;34m,\u001b[0m\u001b[0;34m\u001b[0m\u001b[0m\n\u001b[0;32m----> 6\u001b[0;31m                     \u001b[0mcallbacks\u001b[0m\u001b[0;34m=\u001b[0m\u001b[0;34m[\u001b[0m\u001b[0mModelCheckpoint\u001b[0m\u001b[0;34m(\u001b[0m\u001b[0;34m'model_augmented.h5'\u001b[0m\u001b[0;34m,\u001b[0m \u001b[0msave_best_only\u001b[0m\u001b[0;34m=\u001b[0m\u001b[0;32mTrue\u001b[0m\u001b[0;34m)\u001b[0m\u001b[0;34m]\u001b[0m\u001b[0;34m\u001b[0m\u001b[0m\n\u001b[0m\u001b[1;32m      7\u001b[0m                     )\n",
      "\u001b[0;32m/usr/local/lib/python3.6/site-packages/keras/legacy/interfaces.py\u001b[0m in \u001b[0;36mwrapper\u001b[0;34m(*args, **kwargs)\u001b[0m\n\u001b[1;32m     89\u001b[0m                 warnings.warn('Update your `' + object_name +\n\u001b[1;32m     90\u001b[0m                               '` call to the Keras 2 API: ' + signature, stacklevel=2)\n\u001b[0;32m---> 91\u001b[0;31m             \u001b[0;32mreturn\u001b[0m \u001b[0mfunc\u001b[0m\u001b[0;34m(\u001b[0m\u001b[0;34m*\u001b[0m\u001b[0margs\u001b[0m\u001b[0;34m,\u001b[0m \u001b[0;34m**\u001b[0m\u001b[0mkwargs\u001b[0m\u001b[0;34m)\u001b[0m\u001b[0;34m\u001b[0m\u001b[0m\n\u001b[0m\u001b[1;32m     92\u001b[0m         \u001b[0mwrapper\u001b[0m\u001b[0;34m.\u001b[0m\u001b[0m_original_function\u001b[0m \u001b[0;34m=\u001b[0m \u001b[0mfunc\u001b[0m\u001b[0;34m\u001b[0m\u001b[0m\n\u001b[1;32m     93\u001b[0m         \u001b[0;32mreturn\u001b[0m \u001b[0mwrapper\u001b[0m\u001b[0;34m\u001b[0m\u001b[0m\n",
      "\u001b[0;32m/usr/local/lib/python3.6/site-packages/keras/models.py\u001b[0m in \u001b[0;36mfit_generator\u001b[0;34m(self, generator, steps_per_epoch, epochs, verbose, callbacks, validation_data, validation_steps, class_weight, max_queue_size, workers, use_multiprocessing, shuffle, initial_epoch)\u001b[0m\n\u001b[1;32m   1254\u001b[0m                                         \u001b[0muse_multiprocessing\u001b[0m\u001b[0;34m=\u001b[0m\u001b[0muse_multiprocessing\u001b[0m\u001b[0;34m,\u001b[0m\u001b[0;34m\u001b[0m\u001b[0m\n\u001b[1;32m   1255\u001b[0m                                         \u001b[0mshuffle\u001b[0m\u001b[0;34m=\u001b[0m\u001b[0mshuffle\u001b[0m\u001b[0;34m,\u001b[0m\u001b[0;34m\u001b[0m\u001b[0m\n\u001b[0;32m-> 1256\u001b[0;31m                                         initial_epoch=initial_epoch)\n\u001b[0m\u001b[1;32m   1257\u001b[0m \u001b[0;34m\u001b[0m\u001b[0m\n\u001b[1;32m   1258\u001b[0m     \u001b[0;34m@\u001b[0m\u001b[0minterfaces\u001b[0m\u001b[0;34m.\u001b[0m\u001b[0mlegacy_generator_methods_support\u001b[0m\u001b[0;34m\u001b[0m\u001b[0m\n",
      "\u001b[0;32m/usr/local/lib/python3.6/site-packages/keras/legacy/interfaces.py\u001b[0m in \u001b[0;36mwrapper\u001b[0;34m(*args, **kwargs)\u001b[0m\n\u001b[1;32m     89\u001b[0m                 warnings.warn('Update your `' + object_name +\n\u001b[1;32m     90\u001b[0m                               '` call to the Keras 2 API: ' + signature, stacklevel=2)\n\u001b[0;32m---> 91\u001b[0;31m             \u001b[0;32mreturn\u001b[0m \u001b[0mfunc\u001b[0m\u001b[0;34m(\u001b[0m\u001b[0;34m*\u001b[0m\u001b[0margs\u001b[0m\u001b[0;34m,\u001b[0m \u001b[0;34m**\u001b[0m\u001b[0mkwargs\u001b[0m\u001b[0;34m)\u001b[0m\u001b[0;34m\u001b[0m\u001b[0m\n\u001b[0m\u001b[1;32m     92\u001b[0m         \u001b[0mwrapper\u001b[0m\u001b[0;34m.\u001b[0m\u001b[0m_original_function\u001b[0m \u001b[0;34m=\u001b[0m \u001b[0mfunc\u001b[0m\u001b[0;34m\u001b[0m\u001b[0m\n\u001b[1;32m     93\u001b[0m         \u001b[0;32mreturn\u001b[0m \u001b[0mwrapper\u001b[0m\u001b[0;34m\u001b[0m\u001b[0m\n",
      "\u001b[0;32m/usr/local/lib/python3.6/site-packages/keras/engine/training.py\u001b[0m in \u001b[0;36mfit_generator\u001b[0;34m(self, generator, steps_per_epoch, epochs, verbose, callbacks, validation_data, validation_steps, class_weight, max_queue_size, workers, use_multiprocessing, shuffle, initial_epoch)\u001b[0m\n\u001b[1;32m   2175\u001b[0m                     outs = self.train_on_batch(x, y,\n\u001b[1;32m   2176\u001b[0m                                                \u001b[0msample_weight\u001b[0m\u001b[0;34m=\u001b[0m\u001b[0msample_weight\u001b[0m\u001b[0;34m,\u001b[0m\u001b[0;34m\u001b[0m\u001b[0m\n\u001b[0;32m-> 2177\u001b[0;31m                                                class_weight=class_weight)\n\u001b[0m\u001b[1;32m   2178\u001b[0m \u001b[0;34m\u001b[0m\u001b[0m\n\u001b[1;32m   2179\u001b[0m                     \u001b[0;32mif\u001b[0m \u001b[0;32mnot\u001b[0m \u001b[0misinstance\u001b[0m\u001b[0;34m(\u001b[0m\u001b[0mouts\u001b[0m\u001b[0;34m,\u001b[0m \u001b[0mlist\u001b[0m\u001b[0;34m)\u001b[0m\u001b[0;34m:\u001b[0m\u001b[0;34m\u001b[0m\u001b[0m\n",
      "\u001b[0;32m/usr/local/lib/python3.6/site-packages/keras/engine/training.py\u001b[0m in \u001b[0;36mtrain_on_batch\u001b[0;34m(self, x, y, sample_weight, class_weight)\u001b[0m\n\u001b[1;32m   1847\u001b[0m             \u001b[0mins\u001b[0m \u001b[0;34m=\u001b[0m \u001b[0mx\u001b[0m \u001b[0;34m+\u001b[0m \u001b[0my\u001b[0m \u001b[0;34m+\u001b[0m \u001b[0msample_weights\u001b[0m\u001b[0;34m\u001b[0m\u001b[0m\n\u001b[1;32m   1848\u001b[0m         \u001b[0mself\u001b[0m\u001b[0;34m.\u001b[0m\u001b[0m_make_train_function\u001b[0m\u001b[0;34m(\u001b[0m\u001b[0;34m)\u001b[0m\u001b[0;34m\u001b[0m\u001b[0m\n\u001b[0;32m-> 1849\u001b[0;31m         \u001b[0moutputs\u001b[0m \u001b[0;34m=\u001b[0m \u001b[0mself\u001b[0m\u001b[0;34m.\u001b[0m\u001b[0mtrain_function\u001b[0m\u001b[0;34m(\u001b[0m\u001b[0mins\u001b[0m\u001b[0;34m)\u001b[0m\u001b[0;34m\u001b[0m\u001b[0m\n\u001b[0m\u001b[1;32m   1850\u001b[0m         \u001b[0;32mif\u001b[0m \u001b[0mlen\u001b[0m\u001b[0;34m(\u001b[0m\u001b[0moutputs\u001b[0m\u001b[0;34m)\u001b[0m \u001b[0;34m==\u001b[0m \u001b[0;36m1\u001b[0m\u001b[0;34m:\u001b[0m\u001b[0;34m\u001b[0m\u001b[0m\n\u001b[1;32m   1851\u001b[0m             \u001b[0;32mreturn\u001b[0m \u001b[0moutputs\u001b[0m\u001b[0;34m[\u001b[0m\u001b[0;36m0\u001b[0m\u001b[0;34m]\u001b[0m\u001b[0;34m\u001b[0m\u001b[0m\n",
      "\u001b[0;32m/usr/local/lib/python3.6/site-packages/keras/backend/tensorflow_backend.py\u001b[0m in \u001b[0;36m__call__\u001b[0;34m(self, inputs)\u001b[0m\n\u001b[1;32m   2473\u001b[0m         \u001b[0msession\u001b[0m \u001b[0;34m=\u001b[0m \u001b[0mget_session\u001b[0m\u001b[0;34m(\u001b[0m\u001b[0;34m)\u001b[0m\u001b[0;34m\u001b[0m\u001b[0m\n\u001b[1;32m   2474\u001b[0m         updated = session.run(fetches=fetches, feed_dict=feed_dict,\n\u001b[0;32m-> 2475\u001b[0;31m                               **self.session_kwargs)\n\u001b[0m\u001b[1;32m   2476\u001b[0m         \u001b[0;32mreturn\u001b[0m \u001b[0mupdated\u001b[0m\u001b[0;34m[\u001b[0m\u001b[0;34m:\u001b[0m\u001b[0mlen\u001b[0m\u001b[0;34m(\u001b[0m\u001b[0mself\u001b[0m\u001b[0;34m.\u001b[0m\u001b[0moutputs\u001b[0m\u001b[0;34m)\u001b[0m\u001b[0;34m]\u001b[0m\u001b[0;34m\u001b[0m\u001b[0m\n\u001b[1;32m   2477\u001b[0m \u001b[0;34m\u001b[0m\u001b[0m\n",
      "\u001b[0;32m/usr/local/lib/python3.6/site-packages/tensorflow/python/client/session.py\u001b[0m in \u001b[0;36mrun\u001b[0;34m(self, fetches, feed_dict, options, run_metadata)\u001b[0m\n\u001b[1;32m    893\u001b[0m     \u001b[0;32mtry\u001b[0m\u001b[0;34m:\u001b[0m\u001b[0;34m\u001b[0m\u001b[0m\n\u001b[1;32m    894\u001b[0m       result = self._run(None, fetches, feed_dict, options_ptr,\n\u001b[0;32m--> 895\u001b[0;31m                          run_metadata_ptr)\n\u001b[0m\u001b[1;32m    896\u001b[0m       \u001b[0;32mif\u001b[0m \u001b[0mrun_metadata\u001b[0m\u001b[0;34m:\u001b[0m\u001b[0;34m\u001b[0m\u001b[0m\n\u001b[1;32m    897\u001b[0m         \u001b[0mproto_data\u001b[0m \u001b[0;34m=\u001b[0m \u001b[0mtf_session\u001b[0m\u001b[0;34m.\u001b[0m\u001b[0mTF_GetBuffer\u001b[0m\u001b[0;34m(\u001b[0m\u001b[0mrun_metadata_ptr\u001b[0m\u001b[0;34m)\u001b[0m\u001b[0;34m\u001b[0m\u001b[0m\n",
      "\u001b[0;32m/usr/local/lib/python3.6/site-packages/tensorflow/python/client/session.py\u001b[0m in \u001b[0;36m_run\u001b[0;34m(self, handle, fetches, feed_dict, options, run_metadata)\u001b[0m\n\u001b[1;32m   1126\u001b[0m     \u001b[0;32mif\u001b[0m \u001b[0mfinal_fetches\u001b[0m \u001b[0;32mor\u001b[0m \u001b[0mfinal_targets\u001b[0m \u001b[0;32mor\u001b[0m \u001b[0;34m(\u001b[0m\u001b[0mhandle\u001b[0m \u001b[0;32mand\u001b[0m \u001b[0mfeed_dict_tensor\u001b[0m\u001b[0;34m)\u001b[0m\u001b[0;34m:\u001b[0m\u001b[0;34m\u001b[0m\u001b[0m\n\u001b[1;32m   1127\u001b[0m       results = self._do_run(handle, final_targets, final_fetches,\n\u001b[0;32m-> 1128\u001b[0;31m                              feed_dict_tensor, options, run_metadata)\n\u001b[0m\u001b[1;32m   1129\u001b[0m     \u001b[0;32melse\u001b[0m\u001b[0;34m:\u001b[0m\u001b[0;34m\u001b[0m\u001b[0m\n\u001b[1;32m   1130\u001b[0m       \u001b[0mresults\u001b[0m \u001b[0;34m=\u001b[0m \u001b[0;34m[\u001b[0m\u001b[0;34m]\u001b[0m\u001b[0;34m\u001b[0m\u001b[0m\n",
      "\u001b[0;32m/usr/local/lib/python3.6/site-packages/tensorflow/python/client/session.py\u001b[0m in \u001b[0;36m_do_run\u001b[0;34m(self, handle, target_list, fetch_list, feed_dict, options, run_metadata)\u001b[0m\n\u001b[1;32m   1342\u001b[0m     \u001b[0;32mif\u001b[0m \u001b[0mhandle\u001b[0m \u001b[0;32mis\u001b[0m \u001b[0;32mNone\u001b[0m\u001b[0;34m:\u001b[0m\u001b[0;34m\u001b[0m\u001b[0m\n\u001b[1;32m   1343\u001b[0m       return self._do_call(_run_fn, self._session, feeds, fetches, targets,\n\u001b[0;32m-> 1344\u001b[0;31m                            options, run_metadata)\n\u001b[0m\u001b[1;32m   1345\u001b[0m     \u001b[0;32melse\u001b[0m\u001b[0;34m:\u001b[0m\u001b[0;34m\u001b[0m\u001b[0m\n\u001b[1;32m   1346\u001b[0m       \u001b[0;32mreturn\u001b[0m \u001b[0mself\u001b[0m\u001b[0;34m.\u001b[0m\u001b[0m_do_call\u001b[0m\u001b[0;34m(\u001b[0m\u001b[0m_prun_fn\u001b[0m\u001b[0;34m,\u001b[0m \u001b[0mself\u001b[0m\u001b[0;34m.\u001b[0m\u001b[0m_session\u001b[0m\u001b[0;34m,\u001b[0m \u001b[0mhandle\u001b[0m\u001b[0;34m,\u001b[0m \u001b[0mfeeds\u001b[0m\u001b[0;34m,\u001b[0m \u001b[0mfetches\u001b[0m\u001b[0;34m)\u001b[0m\u001b[0;34m\u001b[0m\u001b[0m\n",
      "\u001b[0;32m/usr/local/lib/python3.6/site-packages/tensorflow/python/client/session.py\u001b[0m in \u001b[0;36m_do_call\u001b[0;34m(self, fn, *args)\u001b[0m\n\u001b[1;32m   1348\u001b[0m   \u001b[0;32mdef\u001b[0m \u001b[0m_do_call\u001b[0m\u001b[0;34m(\u001b[0m\u001b[0mself\u001b[0m\u001b[0;34m,\u001b[0m \u001b[0mfn\u001b[0m\u001b[0;34m,\u001b[0m \u001b[0;34m*\u001b[0m\u001b[0margs\u001b[0m\u001b[0;34m)\u001b[0m\u001b[0;34m:\u001b[0m\u001b[0;34m\u001b[0m\u001b[0m\n\u001b[1;32m   1349\u001b[0m     \u001b[0;32mtry\u001b[0m\u001b[0;34m:\u001b[0m\u001b[0;34m\u001b[0m\u001b[0m\n\u001b[0;32m-> 1350\u001b[0;31m       \u001b[0;32mreturn\u001b[0m \u001b[0mfn\u001b[0m\u001b[0;34m(\u001b[0m\u001b[0;34m*\u001b[0m\u001b[0margs\u001b[0m\u001b[0;34m)\u001b[0m\u001b[0;34m\u001b[0m\u001b[0m\n\u001b[0m\u001b[1;32m   1351\u001b[0m     \u001b[0;32mexcept\u001b[0m \u001b[0merrors\u001b[0m\u001b[0;34m.\u001b[0m\u001b[0mOpError\u001b[0m \u001b[0;32mas\u001b[0m \u001b[0me\u001b[0m\u001b[0;34m:\u001b[0m\u001b[0;34m\u001b[0m\u001b[0m\n\u001b[1;32m   1352\u001b[0m       \u001b[0mmessage\u001b[0m \u001b[0;34m=\u001b[0m \u001b[0mcompat\u001b[0m\u001b[0;34m.\u001b[0m\u001b[0mas_text\u001b[0m\u001b[0;34m(\u001b[0m\u001b[0me\u001b[0m\u001b[0;34m.\u001b[0m\u001b[0mmessage\u001b[0m\u001b[0;34m)\u001b[0m\u001b[0;34m\u001b[0m\u001b[0m\n",
      "\u001b[0;32m/usr/local/lib/python3.6/site-packages/tensorflow/python/client/session.py\u001b[0m in \u001b[0;36m_run_fn\u001b[0;34m(session, feed_dict, fetch_list, target_list, options, run_metadata)\u001b[0m\n\u001b[1;32m   1327\u001b[0m           return tf_session.TF_Run(session, options,\n\u001b[1;32m   1328\u001b[0m                                    \u001b[0mfeed_dict\u001b[0m\u001b[0;34m,\u001b[0m \u001b[0mfetch_list\u001b[0m\u001b[0;34m,\u001b[0m \u001b[0mtarget_list\u001b[0m\u001b[0;34m,\u001b[0m\u001b[0;34m\u001b[0m\u001b[0m\n\u001b[0;32m-> 1329\u001b[0;31m                                    status, run_metadata)\n\u001b[0m\u001b[1;32m   1330\u001b[0m \u001b[0;34m\u001b[0m\u001b[0m\n\u001b[1;32m   1331\u001b[0m     \u001b[0;32mdef\u001b[0m \u001b[0m_prun_fn\u001b[0m\u001b[0;34m(\u001b[0m\u001b[0msession\u001b[0m\u001b[0;34m,\u001b[0m \u001b[0mhandle\u001b[0m\u001b[0;34m,\u001b[0m \u001b[0mfeed_dict\u001b[0m\u001b[0;34m,\u001b[0m \u001b[0mfetch_list\u001b[0m\u001b[0;34m)\u001b[0m\u001b[0;34m:\u001b[0m\u001b[0;34m\u001b[0m\u001b[0m\n",
      "\u001b[0;31mKeyboardInterrupt\u001b[0m: "
     ]
    }
   ],
   "source": [
    "epochs = 100\n",
    "model.fit_generator(datagen.flow(X_train, Y_train, batch_size=200),\n",
    "                    steps_per_epoch=X_train.shape[0],\n",
    "                    epochs=epochs,\n",
    "                    validation_data=(X_val, Y_val),\n",
    "                    callbacks=[ModelCheckpoint('model_augmented.h5', save_best_only=True)]\n",
    "                    )"
   ]
  },
  {
   "cell_type": "code",
   "execution_count": null,
   "metadata": {},
   "outputs": [],
   "source": []
  }
 ],
 "metadata": {
  "kernelspec": {
   "display_name": "Python 3",
   "language": "python",
   "name": "python3"
  },
  "language_info": {
   "codemirror_mode": {
    "name": "ipython",
    "version": 3
   },
   "file_extension": ".py",
   "mimetype": "text/x-python",
   "name": "python",
   "nbconvert_exporter": "python",
   "pygments_lexer": "ipython3",
   "version": "3.6.2"
  }
 },
 "nbformat": 4,
 "nbformat_minor": 2
}
